{
 "cells": [
  {
   "cell_type": "markdown",
   "id": "d9016a36-7d57-4a86-aeed-7bc0f4a0b131",
   "metadata": {},
   "source": [
    "This notebook shows we can run multiple UE off of a single device. \n",
    "This is accomplished in a sort of hacky way, but it will do for now.\n",
    "Currently, there is not the ability to add multiple subscribers via CLI, so that is the next step."
   ]
  },
  {
   "cell_type": "code",
   "execution_count": 1,
   "id": "edd285cb-d864-4600-8486-08fcc3682d3d",
   "metadata": {},
   "outputs": [],
   "source": [
    "import pandas as pd\n",
    "df = pd.read_csv(\"../logs/mult_ue.csv\")"
   ]
  },
  {
   "cell_type": "code",
   "execution_count": 2,
   "id": "3cfa2e6b-b3b3-4fca-98b5-40a6ae92c4c7",
   "metadata": {},
   "outputs": [
    {
     "data": {
      "text/html": [
       "<div>\n",
       "<style scoped>\n",
       "    .dataframe tbody tr th:only-of-type {\n",
       "        vertical-align: middle;\n",
       "    }\n",
       "\n",
       "    .dataframe tbody tr th {\n",
       "        vertical-align: top;\n",
       "    }\n",
       "\n",
       "    .dataframe thead th {\n",
       "        text-align: right;\n",
       "    }\n",
       "</style>\n",
       "<table border=\"1\" class=\"dataframe\">\n",
       "  <thead>\n",
       "    <tr style=\"text-align: right;\">\n",
       "      <th></th>\n",
       "      <th>message_number</th>\n",
       "      <th>interface</th>\n",
       "      <th>interface_ip</th>\n",
       "      <th>sender_ip</th>\n",
       "      <th>broker_ip</th>\n",
       "      <th>receiver_ip</th>\n",
       "      <th>topic</th>\n",
       "      <th>send_time</th>\n",
       "      <th>receive_time</th>\n",
       "    </tr>\n",
       "  </thead>\n",
       "  <tbody>\n",
       "    <tr>\n",
       "      <th>0</th>\n",
       "      <td>0</td>\n",
       "      <td>uesimtun1</td>\n",
       "      <td>10.60.0.2</td>\n",
       "      <td>10.56.3.18</td>\n",
       "      <td>129.114.26.170</td>\n",
       "      <td>10.56.2.120</td>\n",
       "      <td>test</td>\n",
       "      <td>1656625635977103352</td>\n",
       "      <td>1656625636018378462</td>\n",
       "    </tr>\n",
       "    <tr>\n",
       "      <th>1</th>\n",
       "      <td>0</td>\n",
       "      <td>uesimtun0</td>\n",
       "      <td>10.60.0.1</td>\n",
       "      <td>10.56.3.18</td>\n",
       "      <td>129.114.26.170</td>\n",
       "      <td>10.56.2.120</td>\n",
       "      <td>test</td>\n",
       "      <td>1656625635979070591</td>\n",
       "      <td>1656625636019113046</td>\n",
       "    </tr>\n",
       "    <tr>\n",
       "      <th>2</th>\n",
       "      <td>0</td>\n",
       "      <td>uesimtun3</td>\n",
       "      <td>10.60.0.4</td>\n",
       "      <td>10.56.3.18</td>\n",
       "      <td>129.114.26.170</td>\n",
       "      <td>10.56.2.120</td>\n",
       "      <td>test</td>\n",
       "      <td>1656625635984979652</td>\n",
       "      <td>1656625636019474820</td>\n",
       "    </tr>\n",
       "    <tr>\n",
       "      <th>3</th>\n",
       "      <td>0</td>\n",
       "      <td>uesimtun2</td>\n",
       "      <td>10.60.0.3</td>\n",
       "      <td>10.56.3.18</td>\n",
       "      <td>129.114.26.170</td>\n",
       "      <td>10.56.2.120</td>\n",
       "      <td>test</td>\n",
       "      <td>1656625635992520417</td>\n",
       "      <td>1656625636019820346</td>\n",
       "    </tr>\n",
       "    <tr>\n",
       "      <th>4</th>\n",
       "      <td>0</td>\n",
       "      <td>uesimtun4</td>\n",
       "      <td>10.60.0.5</td>\n",
       "      <td>10.56.3.18</td>\n",
       "      <td>129.114.26.170</td>\n",
       "      <td>10.56.2.120</td>\n",
       "      <td>test</td>\n",
       "      <td>1656625635991659138</td>\n",
       "      <td>1656625636020162644</td>\n",
       "    </tr>\n",
       "    <tr>\n",
       "      <th>...</th>\n",
       "      <td>...</td>\n",
       "      <td>...</td>\n",
       "      <td>...</td>\n",
       "      <td>...</td>\n",
       "      <td>...</td>\n",
       "      <td>...</td>\n",
       "      <td>...</td>\n",
       "      <td>...</td>\n",
       "      <td>...</td>\n",
       "    </tr>\n",
       "    <tr>\n",
       "      <th>95</th>\n",
       "      <td>9</td>\n",
       "      <td>uesimtun0</td>\n",
       "      <td>10.60.0.1</td>\n",
       "      <td>10.56.3.18</td>\n",
       "      <td>129.114.26.170</td>\n",
       "      <td>10.56.2.120</td>\n",
       "      <td>test</td>\n",
       "      <td>1656625645055553984</td>\n",
       "      <td>1656625645132235325</td>\n",
       "    </tr>\n",
       "    <tr>\n",
       "      <th>96</th>\n",
       "      <td>9</td>\n",
       "      <td>uesimtun1</td>\n",
       "      <td>10.60.0.2</td>\n",
       "      <td>10.56.3.18</td>\n",
       "      <td>129.114.26.170</td>\n",
       "      <td>10.56.2.120</td>\n",
       "      <td>test</td>\n",
       "      <td>1656625645059183727</td>\n",
       "      <td>1656625645132554789</td>\n",
       "    </tr>\n",
       "    <tr>\n",
       "      <th>97</th>\n",
       "      <td>9</td>\n",
       "      <td>uesimtun6</td>\n",
       "      <td>10.60.0.7</td>\n",
       "      <td>10.56.3.18</td>\n",
       "      <td>129.114.26.170</td>\n",
       "      <td>10.56.2.120</td>\n",
       "      <td>test</td>\n",
       "      <td>1656625645059660172</td>\n",
       "      <td>1656625645132875605</td>\n",
       "    </tr>\n",
       "    <tr>\n",
       "      <th>98</th>\n",
       "      <td>9</td>\n",
       "      <td>uesimtun8</td>\n",
       "      <td>10.60.0.9</td>\n",
       "      <td>10.56.3.18</td>\n",
       "      <td>129.114.26.170</td>\n",
       "      <td>10.56.2.120</td>\n",
       "      <td>test</td>\n",
       "      <td>1656625645060098864</td>\n",
       "      <td>1656625645133193530</td>\n",
       "    </tr>\n",
       "    <tr>\n",
       "      <th>99</th>\n",
       "      <td>9</td>\n",
       "      <td>uesimtun9</td>\n",
       "      <td>10.60.0.10</td>\n",
       "      <td>10.56.3.18</td>\n",
       "      <td>129.114.26.170</td>\n",
       "      <td>10.56.2.120</td>\n",
       "      <td>test</td>\n",
       "      <td>1656625645060906983</td>\n",
       "      <td>1656625645133536365</td>\n",
       "    </tr>\n",
       "  </tbody>\n",
       "</table>\n",
       "<p>100 rows × 9 columns</p>\n",
       "</div>"
      ],
      "text/plain": [
       "    message_number  interface interface_ip   sender_ip       broker_ip  \\\n",
       "0                0  uesimtun1    10.60.0.2  10.56.3.18  129.114.26.170   \n",
       "1                0  uesimtun0    10.60.0.1  10.56.3.18  129.114.26.170   \n",
       "2                0  uesimtun3    10.60.0.4  10.56.3.18  129.114.26.170   \n",
       "3                0  uesimtun2    10.60.0.3  10.56.3.18  129.114.26.170   \n",
       "4                0  uesimtun4    10.60.0.5  10.56.3.18  129.114.26.170   \n",
       "..             ...        ...          ...         ...             ...   \n",
       "95               9  uesimtun0    10.60.0.1  10.56.3.18  129.114.26.170   \n",
       "96               9  uesimtun1    10.60.0.2  10.56.3.18  129.114.26.170   \n",
       "97               9  uesimtun6    10.60.0.7  10.56.3.18  129.114.26.170   \n",
       "98               9  uesimtun8    10.60.0.9  10.56.3.18  129.114.26.170   \n",
       "99               9  uesimtun9   10.60.0.10  10.56.3.18  129.114.26.170   \n",
       "\n",
       "    receiver_ip topic            send_time         receive_time  \n",
       "0   10.56.2.120  test  1656625635977103352  1656625636018378462  \n",
       "1   10.56.2.120  test  1656625635979070591  1656625636019113046  \n",
       "2   10.56.2.120  test  1656625635984979652  1656625636019474820  \n",
       "3   10.56.2.120  test  1656625635992520417  1656625636019820346  \n",
       "4   10.56.2.120  test  1656625635991659138  1656625636020162644  \n",
       "..          ...   ...                  ...                  ...  \n",
       "95  10.56.2.120  test  1656625645055553984  1656625645132235325  \n",
       "96  10.56.2.120  test  1656625645059183727  1656625645132554789  \n",
       "97  10.56.2.120  test  1656625645059660172  1656625645132875605  \n",
       "98  10.56.2.120  test  1656625645060098864  1656625645133193530  \n",
       "99  10.56.2.120  test  1656625645060906983  1656625645133536365  \n",
       "\n",
       "[100 rows x 9 columns]"
      ]
     },
     "execution_count": 2,
     "metadata": {},
     "output_type": "execute_result"
    }
   ],
   "source": [
    "df"
   ]
  },
  {
   "cell_type": "code",
   "execution_count": 3,
   "id": "9febd77d-8555-4f69-bc7f-6bb5ade5cb2f",
   "metadata": {},
   "outputs": [
    {
     "data": {
      "text/plain": [
       "array(['uesimtun1', 'uesimtun0', 'uesimtun3', 'uesimtun2', 'uesimtun4',\n",
       "       'uesimtun5', 'uesimtun6', 'uesimtun7', 'uesimtun8', 'uesimtun9'],\n",
       "      dtype=object)"
      ]
     },
     "execution_count": 3,
     "metadata": {},
     "output_type": "execute_result"
    }
   ],
   "source": [
    "df['interface'].unique()"
   ]
  },
  {
   "cell_type": "code",
   "execution_count": 4,
   "id": "60425b6e-a95f-4eb3-b774-63f391c2b10c",
   "metadata": {},
   "outputs": [
    {
     "data": {
      "text/plain": [
       "array(['10.60.0.2', '10.60.0.1', '10.60.0.4', '10.60.0.3', '10.60.0.5',\n",
       "       '10.60.0.6', '10.60.0.7', '10.60.0.8', '10.60.0.9', '10.60.0.10'],\n",
       "      dtype=object)"
      ]
     },
     "execution_count": 4,
     "metadata": {},
     "output_type": "execute_result"
    }
   ],
   "source": [
    "df['interface_ip'].unique()"
   ]
  },
  {
   "cell_type": "code",
   "execution_count": 5,
   "id": "4928957e-f29a-43b9-b975-4a0b274de1da",
   "metadata": {},
   "outputs": [
    {
     "data": {
      "text/plain": [
       "array(['10.56.3.18'], dtype=object)"
      ]
     },
     "execution_count": 5,
     "metadata": {},
     "output_type": "execute_result"
    }
   ],
   "source": [
    "df['sender_ip'].unique()"
   ]
  },
  {
   "cell_type": "code",
   "execution_count": 6,
   "id": "bb524b63-faad-4127-b66e-bc89f514e97a",
   "metadata": {},
   "outputs": [
    {
     "data": {
      "text/plain": [
       "58389000.07"
      ]
     },
     "execution_count": 6,
     "metadata": {},
     "output_type": "execute_result"
    }
   ],
   "source": [
    "df['lat'] = df['receive_time'] - df.send_time\n",
    "df.lat.mean()"
   ]
  },
  {
   "cell_type": "code",
   "execution_count": 7,
   "id": "77992c89-1113-477f-a4d1-01c706d7c312",
   "metadata": {},
   "outputs": [
    {
     "name": "stderr",
     "output_type": "stream",
     "text": [
      "/tmp/ipykernel_1882897/3159073440.py:3: UserWarning: Pandas doesn't allow columns to be created via a new attribute name - see https://pandas.pydata.org/pandas-docs/stable/indexing.html#attribute-access\n",
      "  df.ete_latency = df.receive_time - df.send_time\n"
     ]
    }
   ],
   "source": [
    "df.send_time = pd.to_datetime(df.send_time, unit='ns')\n",
    "df.receive_time = pd.to_datetime(df.receive_time, unit='ns')\n",
    "df.ete_latency = df.receive_time - df.send_time\n",
    "df.ete_latency = pd.to_timedelta(df.ete_latency)"
   ]
  },
  {
   "cell_type": "code",
   "execution_count": 8,
   "id": "7c3136b3-1f01-4c1d-be03-519ffd4d5e75",
   "metadata": {},
   "outputs": [
    {
     "data": {
      "text/plain": [
       "Timedelta('0 days 00:00:00.058389')"
      ]
     },
     "execution_count": 8,
     "metadata": {},
     "output_type": "execute_result"
    }
   ],
   "source": [
    "df.ete_latency.mean()"
   ]
  }
 ],
 "metadata": {
  "kernelspec": {
   "display_name": "Python 3 (ipykernel)",
   "language": "python",
   "name": "python3"
  },
  "language_info": {
   "codemirror_mode": {
    "name": "ipython",
    "version": 3
   },
   "file_extension": ".py",
   "mimetype": "text/x-python",
   "name": "python",
   "nbconvert_exporter": "python",
   "pygments_lexer": "ipython3",
   "version": "3.10.5"
  }
 },
 "nbformat": 4,
 "nbformat_minor": 5
}
