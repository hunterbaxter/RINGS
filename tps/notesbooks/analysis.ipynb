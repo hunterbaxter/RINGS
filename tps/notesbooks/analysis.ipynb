{
 "cells": [
  {
   "cell_type": "code",
   "execution_count": 1,
   "metadata": {},
   "outputs": [],
   "source": [
    "import pandas as pd\n",
    "ue3 = pd.read_csv(\"../logs/exp_n100_s1/ue3_s_r_times.csv\")\n",
    "ctrl = pd.read_csv(\"../logs/exp_n100_s1/control_s_r_times.csv\")"
   ]
  },
  {
   "cell_type": "code",
   "execution_count": 2,
   "metadata": {},
   "outputs": [],
   "source": [
    "ue3 = ue3.iloc[30:]\n",
    "ctrl = ue3.iloc[30:]"
   ]
  },
  {
   "cell_type": "code",
   "execution_count": 3,
   "metadata": {},
   "outputs": [
    {
     "data": {
      "text/html": [
       "<div>\n",
       "<style scoped>\n",
       "    .dataframe tbody tr th:only-of-type {\n",
       "        vertical-align: middle;\n",
       "    }\n",
       "\n",
       "    .dataframe tbody tr th {\n",
       "        vertical-align: top;\n",
       "    }\n",
       "\n",
       "    .dataframe thead th {\n",
       "        text-align: right;\n",
       "    }\n",
       "</style>\n",
       "<table border=\"1\" class=\"dataframe\">\n",
       "  <thead>\n",
       "    <tr style=\"text-align: right;\">\n",
       "      <th></th>\n",
       "      <th>sender</th>\n",
       "      <th>send_time</th>\n",
       "      <th>receive_time</th>\n",
       "    </tr>\n",
       "  </thead>\n",
       "  <tbody>\n",
       "    <tr>\n",
       "      <th>60</th>\n",
       "      <td>10.56.3.18</td>\n",
       "      <td>2022-06-25 22:45:37.839580720 UTC</td>\n",
       "      <td>2022-06-25 22:45:37.848569635 UTC</td>\n",
       "    </tr>\n",
       "    <tr>\n",
       "      <th>61</th>\n",
       "      <td>10.56.1.225</td>\n",
       "      <td>2022-06-25 22:45:38.014725657 UTC</td>\n",
       "      <td>2022-06-25 22:45:38.052287604 UTC</td>\n",
       "    </tr>\n",
       "    <tr>\n",
       "      <th>62</th>\n",
       "      <td>10.56.2.120</td>\n",
       "      <td>2022-06-25 22:45:38.587032994 UTC</td>\n",
       "      <td>2022-06-25 22:45:38.663928992 UTC</td>\n",
       "    </tr>\n",
       "  </tbody>\n",
       "</table>\n",
       "</div>"
      ],
      "text/plain": [
       "         sender                          send_time  \\\n",
       "60   10.56.3.18  2022-06-25 22:45:37.839580720 UTC   \n",
       "61  10.56.1.225  2022-06-25 22:45:38.014725657 UTC   \n",
       "62  10.56.2.120  2022-06-25 22:45:38.587032994 UTC   \n",
       "\n",
       "                         receive_time  \n",
       "60  2022-06-25 22:45:37.848569635 UTC  \n",
       "61  2022-06-25 22:45:38.052287604 UTC  \n",
       "62  2022-06-25 22:45:38.663928992 UTC  "
      ]
     },
     "execution_count": 3,
     "metadata": {},
     "output_type": "execute_result"
    }
   ],
   "source": [
    "ctrl.head(3)"
   ]
  },
  {
   "cell_type": "markdown",
   "metadata": {
    "tags": []
   },
   "source": [
    "FIXME: currently, nanosecond precision is not working"
   ]
  },
  {
   "cell_type": "code",
   "execution_count": 4,
   "metadata": {},
   "outputs": [
    {
     "name": "stderr",
     "output_type": "stream",
     "text": [
      "/tmp/ipykernel_1882723/2887169439.py:3: SettingWithCopyWarning: \n",
      "A value is trying to be set on a copy of a slice from a DataFrame.\n",
      "Try using .loc[row_indexer,col_indexer] = value instead\n",
      "\n",
      "See the caveats in the documentation: https://pandas.pydata.org/pandas-docs/stable/user_guide/indexing.html#returning-a-view-versus-a-copy\n",
      "  ctrl.send_time = pd.to_datetime(ue3.send_time, unit='ns')\n",
      "/tmp/ipykernel_1882723/2887169439.py:4: SettingWithCopyWarning: \n",
      "A value is trying to be set on a copy of a slice from a DataFrame.\n",
      "Try using .loc[row_indexer,col_indexer] = value instead\n",
      "\n",
      "See the caveats in the documentation: https://pandas.pydata.org/pandas-docs/stable/user_guide/indexing.html#returning-a-view-versus-a-copy\n",
      "  ctrl.receive_time = pd.to_datetime(ue3.receive_time, unit='ns')\n"
     ]
    }
   ],
   "source": [
    "ue3.send_time = pd.to_datetime(ue3.send_time, unit='ns')\n",
    "ue3.receive_time = pd.to_datetime(ue3.receive_time, unit='ns')\n",
    "ctrl.send_time = pd.to_datetime(ue3.send_time, unit='ns')\n",
    "ctrl.receive_time = pd.to_datetime(ue3.receive_time, unit='ns')"
   ]
  },
  {
   "cell_type": "code",
   "execution_count": 5,
   "metadata": {},
   "outputs": [
    {
     "name": "stderr",
     "output_type": "stream",
     "text": [
      "/tmp/ipykernel_1882723/2713633765.py:2: SettingWithCopyWarning: \n",
      "A value is trying to be set on a copy of a slice from a DataFrame.\n",
      "Try using .loc[row_indexer,col_indexer] = value instead\n",
      "\n",
      "See the caveats in the documentation: https://pandas.pydata.org/pandas-docs/stable/user_guide/indexing.html#returning-a-view-versus-a-copy\n",
      "  ctrl['ete_latency'] = ctrl['receive_time'] - ctrl['send_time']\n"
     ]
    }
   ],
   "source": [
    "ue3['ete_latency'] = ue3['receive_time'] - ue3['send_time']\n",
    "ctrl['ete_latency'] = ctrl['receive_time'] - ctrl['send_time']"
   ]
  },
  {
   "cell_type": "code",
   "execution_count": 6,
   "metadata": {},
   "outputs": [
    {
     "name": "stderr",
     "output_type": "stream",
     "text": [
      "/tmp/ipykernel_1882723/1069395940.py:2: SettingWithCopyWarning: \n",
      "A value is trying to be set on a copy of a slice from a DataFrame.\n",
      "Try using .loc[row_indexer,col_indexer] = value instead\n",
      "\n",
      "See the caveats in the documentation: https://pandas.pydata.org/pandas-docs/stable/user_guide/indexing.html#returning-a-view-versus-a-copy\n",
      "  ctrl.ete_latency = pd.to_timedelta(ctrl.ete_latency)\n"
     ]
    }
   ],
   "source": [
    "ue3.ete_latency = pd.to_timedelta(ue3.ete_latency)\n",
    "ctrl.ete_latency = pd.to_timedelta(ctrl.ete_latency)"
   ]
  },
  {
   "cell_type": "code",
   "execution_count": 7,
   "metadata": {},
   "outputs": [
    {
     "data": {
      "text/html": [
       "<div>\n",
       "<style scoped>\n",
       "    .dataframe tbody tr th:only-of-type {\n",
       "        vertical-align: middle;\n",
       "    }\n",
       "\n",
       "    .dataframe tbody tr th {\n",
       "        vertical-align: top;\n",
       "    }\n",
       "\n",
       "    .dataframe thead th {\n",
       "        text-align: right;\n",
       "    }\n",
       "</style>\n",
       "<table border=\"1\" class=\"dataframe\">\n",
       "  <thead>\n",
       "    <tr style=\"text-align: right;\">\n",
       "      <th></th>\n",
       "      <th>sender</th>\n",
       "      <th>send_time</th>\n",
       "      <th>receive_time</th>\n",
       "      <th>ete_latency</th>\n",
       "    </tr>\n",
       "  </thead>\n",
       "  <tbody>\n",
       "    <tr>\n",
       "      <th>30</th>\n",
       "      <td>10.56.3.18</td>\n",
       "      <td>2022-06-25 22:45:27.808631+00:00</td>\n",
       "      <td>2022-06-25 22:45:27.883874+00:00</td>\n",
       "      <td>0 days 00:00:00.075243</td>\n",
       "    </tr>\n",
       "    <tr>\n",
       "      <th>31</th>\n",
       "      <td>10.56.1.225</td>\n",
       "      <td>2022-06-25 22:45:27.982736+00:00</td>\n",
       "      <td>2022-06-25 22:45:27.985722+00:00</td>\n",
       "      <td>0 days 00:00:00.002986</td>\n",
       "    </tr>\n",
       "    <tr>\n",
       "      <th>32</th>\n",
       "      <td>10.56.2.120</td>\n",
       "      <td>2022-06-25 22:45:28.550269+00:00</td>\n",
       "      <td>2022-06-25 22:45:28.594710+00:00</td>\n",
       "      <td>0 days 00:00:00.044441</td>\n",
       "    </tr>\n",
       "  </tbody>\n",
       "</table>\n",
       "</div>"
      ],
      "text/plain": [
       "         sender                        send_time  \\\n",
       "30   10.56.3.18 2022-06-25 22:45:27.808631+00:00   \n",
       "31  10.56.1.225 2022-06-25 22:45:27.982736+00:00   \n",
       "32  10.56.2.120 2022-06-25 22:45:28.550269+00:00   \n",
       "\n",
       "                       receive_time            ete_latency  \n",
       "30 2022-06-25 22:45:27.883874+00:00 0 days 00:00:00.075243  \n",
       "31 2022-06-25 22:45:27.985722+00:00 0 days 00:00:00.002986  \n",
       "32 2022-06-25 22:45:28.594710+00:00 0 days 00:00:00.044441  "
      ]
     },
     "execution_count": 7,
     "metadata": {},
     "output_type": "execute_result"
    }
   ],
   "source": [
    "ue3.head(3)"
   ]
  },
  {
   "cell_type": "markdown",
   "metadata": {
    "tags": []
   },
   "source": [
    "IP Tables:\n",
    "- 10.56.3.18 = ue1 (5g producer)\n",
    "- 10.56.2.120 = ue2 (5g producer)\n",
    "- 10.56.3.43 = ue3 (5g consumer)\n",
    "- 10.56.1.225 = vm1 (standard consumer and producer)"
   ]
  },
  {
   "cell_type": "code",
   "execution_count": 8,
   "metadata": {},
   "outputs": [],
   "source": [
    "ue3 = ue3.replace(\"10.56.3.18\", \"ue1\")\n",
    "ue3 = ue3.replace(\"10.56.2.120\", \"ue2\")\n",
    "ue3 = ue3.replace(\"10.56.3.43\", \"ue3\")\n",
    "ue3 = ue3.replace(\"10.56.1.225\", \"vm1\")\n",
    "ctrl = ctrl.replace(\"10.56.3.18\", \"ue1\")\n",
    "ctrl = ctrl.replace(\"10.56.2.120\", \"ue2\")\n",
    "ctrl = ctrl.replace(\"10.56.3.43\", \"ue3\")\n",
    "ctrl = ctrl.replace(\"10.56.1.225\", \"vm1\")"
   ]
  },
  {
   "cell_type": "code",
   "execution_count": 9,
   "metadata": {},
   "outputs": [
    {
     "data": {
      "text/html": [
       "<div>\n",
       "<style scoped>\n",
       "    .dataframe tbody tr th:only-of-type {\n",
       "        vertical-align: middle;\n",
       "    }\n",
       "\n",
       "    .dataframe tbody tr th {\n",
       "        vertical-align: top;\n",
       "    }\n",
       "\n",
       "    .dataframe thead th {\n",
       "        text-align: right;\n",
       "    }\n",
       "</style>\n",
       "<table border=\"1\" class=\"dataframe\">\n",
       "  <thead>\n",
       "    <tr style=\"text-align: right;\">\n",
       "      <th></th>\n",
       "      <th>sender</th>\n",
       "      <th>send_time</th>\n",
       "      <th>receive_time</th>\n",
       "      <th>ete_latency</th>\n",
       "    </tr>\n",
       "  </thead>\n",
       "  <tbody>\n",
       "    <tr>\n",
       "      <th>30</th>\n",
       "      <td>ue1</td>\n",
       "      <td>2022-06-25 22:45:27.808631+00:00</td>\n",
       "      <td>2022-06-25 22:45:27.883874+00:00</td>\n",
       "      <td>0 days 00:00:00.075243</td>\n",
       "    </tr>\n",
       "    <tr>\n",
       "      <th>31</th>\n",
       "      <td>vm1</td>\n",
       "      <td>2022-06-25 22:45:27.982736+00:00</td>\n",
       "      <td>2022-06-25 22:45:27.985722+00:00</td>\n",
       "      <td>0 days 00:00:00.002986</td>\n",
       "    </tr>\n",
       "    <tr>\n",
       "      <th>32</th>\n",
       "      <td>ue2</td>\n",
       "      <td>2022-06-25 22:45:28.550269+00:00</td>\n",
       "      <td>2022-06-25 22:45:28.594710+00:00</td>\n",
       "      <td>0 days 00:00:00.044441</td>\n",
       "    </tr>\n",
       "  </tbody>\n",
       "</table>\n",
       "</div>"
      ],
      "text/plain": [
       "   sender                        send_time                     receive_time  \\\n",
       "30    ue1 2022-06-25 22:45:27.808631+00:00 2022-06-25 22:45:27.883874+00:00   \n",
       "31    vm1 2022-06-25 22:45:27.982736+00:00 2022-06-25 22:45:27.985722+00:00   \n",
       "32    ue2 2022-06-25 22:45:28.550269+00:00 2022-06-25 22:45:28.594710+00:00   \n",
       "\n",
       "              ete_latency  \n",
       "30 0 days 00:00:00.075243  \n",
       "31 0 days 00:00:00.002986  \n",
       "32 0 days 00:00:00.044441  "
      ]
     },
     "execution_count": 9,
     "metadata": {},
     "output_type": "execute_result"
    }
   ],
   "source": [
    "ue3.head(3)"
   ]
  },
  {
   "cell_type": "code",
   "execution_count": 10,
   "metadata": {},
   "outputs": [
    {
     "data": {
      "text/html": [
       "<div>\n",
       "<style scoped>\n",
       "    .dataframe tbody tr th:only-of-type {\n",
       "        vertical-align: middle;\n",
       "    }\n",
       "\n",
       "    .dataframe tbody tr th {\n",
       "        vertical-align: top;\n",
       "    }\n",
       "\n",
       "    .dataframe thead th {\n",
       "        text-align: right;\n",
       "    }\n",
       "</style>\n",
       "<table border=\"1\" class=\"dataframe\">\n",
       "  <thead>\n",
       "    <tr style=\"text-align: right;\">\n",
       "      <th></th>\n",
       "      <th>ete_latency</th>\n",
       "    </tr>\n",
       "    <tr>\n",
       "      <th>sender</th>\n",
       "      <th></th>\n",
       "    </tr>\n",
       "  </thead>\n",
       "  <tbody>\n",
       "    <tr>\n",
       "      <th>vm1</th>\n",
       "      <td>0 days 00:00:00.047442258</td>\n",
       "    </tr>\n",
       "    <tr>\n",
       "      <th>ue1</th>\n",
       "      <td>0 days 00:00:00.051137967</td>\n",
       "    </tr>\n",
       "    <tr>\n",
       "      <th>ue2</th>\n",
       "      <td>0 days 00:00:00.053039</td>\n",
       "    </tr>\n",
       "  </tbody>\n",
       "</table>\n",
       "</div>"
      ],
      "text/plain": [
       "                     ete_latency\n",
       "sender                          \n",
       "vm1    0 days 00:00:00.047442258\n",
       "ue1    0 days 00:00:00.051137967\n",
       "ue2       0 days 00:00:00.053039"
      ]
     },
     "execution_count": 10,
     "metadata": {},
     "output_type": "execute_result"
    }
   ],
   "source": [
    "ue3[['sender', 'ete_latency']].groupby(\"sender\").mean().sort_values(\"ete_latency\")"
   ]
  },
  {
   "cell_type": "code",
   "execution_count": 11,
   "metadata": {},
   "outputs": [
    {
     "data": {
      "text/html": [
       "<div>\n",
       "<style scoped>\n",
       "    .dataframe tbody tr th:only-of-type {\n",
       "        vertical-align: middle;\n",
       "    }\n",
       "\n",
       "    .dataframe tbody tr th {\n",
       "        vertical-align: top;\n",
       "    }\n",
       "\n",
       "    .dataframe thead th {\n",
       "        text-align: right;\n",
       "    }\n",
       "</style>\n",
       "<table border=\"1\" class=\"dataframe\">\n",
       "  <thead>\n",
       "    <tr style=\"text-align: right;\">\n",
       "      <th></th>\n",
       "      <th>ete_latency</th>\n",
       "    </tr>\n",
       "    <tr>\n",
       "      <th>sender</th>\n",
       "      <th></th>\n",
       "    </tr>\n",
       "  </thead>\n",
       "  <tbody>\n",
       "    <tr>\n",
       "      <th>vm1</th>\n",
       "      <td>0 days 00:00:00.047893120</td>\n",
       "    </tr>\n",
       "    <tr>\n",
       "      <th>ue1</th>\n",
       "      <td>0 days 00:00:00.050558795</td>\n",
       "    </tr>\n",
       "    <tr>\n",
       "      <th>ue2</th>\n",
       "      <td>0 days 00:00:00.052908101</td>\n",
       "    </tr>\n",
       "  </tbody>\n",
       "</table>\n",
       "</div>"
      ],
      "text/plain": [
       "                     ete_latency\n",
       "sender                          \n",
       "vm1    0 days 00:00:00.047893120\n",
       "ue1    0 days 00:00:00.050558795\n",
       "ue2    0 days 00:00:00.052908101"
      ]
     },
     "execution_count": 11,
     "metadata": {},
     "output_type": "execute_result"
    }
   ],
   "source": [
    "ctrl[['sender', 'ete_latency']].groupby(\"sender\").mean().sort_values(\"ete_latency\")"
   ]
  }
 ],
 "metadata": {
  "kernelspec": {
   "display_name": "Python 3 (ipykernel)",
   "language": "python",
   "name": "python3"
  },
  "language_info": {
   "codemirror_mode": {
    "name": "ipython",
    "version": 3
   },
   "file_extension": ".py",
   "mimetype": "text/x-python",
   "name": "python",
   "nbconvert_exporter": "python",
   "pygments_lexer": "ipython3",
   "version": "3.10.5"
  }
 },
 "nbformat": 4,
 "nbformat_minor": 4
}
